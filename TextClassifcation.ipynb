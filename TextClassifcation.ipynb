{
  "nbformat": 4,
  "nbformat_minor": 0,
  "metadata": {
    "colab": {
      "provenance": [],
      "authorship_tag": "ABX9TyMB4z6It+g2qqjcqJD2xqQe",
      "include_colab_link": true
    },
    "kernelspec": {
      "name": "python3",
      "display_name": "Python 3"
    },
    "language_info": {
      "name": "python"
    }
  },
  "cells": [
    {
      "cell_type": "markdown",
      "metadata": {
        "id": "view-in-github",
        "colab_type": "text"
      },
      "source": [
        "<a href=\"https://colab.research.google.com/github/GloryKO/Text-Classification/blob/main/TextClassifcation.ipynb\" target=\"_parent\"><img src=\"https://colab.research.google.com/assets/colab-badge.svg\" alt=\"Open In Colab\"/></a>"
      ]
    },
    {
      "cell_type": "code",
      "execution_count": 2,
      "metadata": {
        "colab": {
          "base_uri": "https://localhost:8080/"
        },
        "id": "jqBvzLL_vdeG",
        "outputId": "ba231e20-be89-48b6-d068-800ba0def808"
      },
      "outputs": [
        {
          "output_type": "stream",
          "name": "stdout",
          "text": [
            "Requirement already satisfied: cohere in /usr/local/lib/python3.10/dist-packages (4.13.1)\n",
            "Requirement already satisfied: aiohttp<4.0,>=3.0 in /usr/local/lib/python3.10/dist-packages (from cohere) (3.8.4)\n",
            "Requirement already satisfied: backoff<3.0,>=2.0 in /usr/local/lib/python3.10/dist-packages (from cohere) (2.2.1)\n",
            "Requirement already satisfied: importlib_metadata<7.0,>=6.0 in /usr/local/lib/python3.10/dist-packages (from cohere) (6.8.0)\n",
            "Requirement already satisfied: requests<3.0.0,>=2.25.0 in /usr/local/lib/python3.10/dist-packages (from cohere) (2.27.1)\n",
            "Requirement already satisfied: urllib3<3,>=1.26 in /usr/local/lib/python3.10/dist-packages (from cohere) (1.26.16)\n",
            "Requirement already satisfied: attrs>=17.3.0 in /usr/local/lib/python3.10/dist-packages (from aiohttp<4.0,>=3.0->cohere) (23.1.0)\n",
            "Requirement already satisfied: charset-normalizer<4.0,>=2.0 in /usr/local/lib/python3.10/dist-packages (from aiohttp<4.0,>=3.0->cohere) (2.0.12)\n",
            "Requirement already satisfied: multidict<7.0,>=4.5 in /usr/local/lib/python3.10/dist-packages (from aiohttp<4.0,>=3.0->cohere) (6.0.4)\n",
            "Requirement already satisfied: async-timeout<5.0,>=4.0.0a3 in /usr/local/lib/python3.10/dist-packages (from aiohttp<4.0,>=3.0->cohere) (4.0.2)\n",
            "Requirement already satisfied: yarl<2.0,>=1.0 in /usr/local/lib/python3.10/dist-packages (from aiohttp<4.0,>=3.0->cohere) (1.9.2)\n",
            "Requirement already satisfied: frozenlist>=1.1.1 in /usr/local/lib/python3.10/dist-packages (from aiohttp<4.0,>=3.0->cohere) (1.3.3)\n",
            "Requirement already satisfied: aiosignal>=1.1.2 in /usr/local/lib/python3.10/dist-packages (from aiohttp<4.0,>=3.0->cohere) (1.3.1)\n",
            "Requirement already satisfied: zipp>=0.5 in /usr/local/lib/python3.10/dist-packages (from importlib_metadata<7.0,>=6.0->cohere) (3.16.0)\n",
            "Requirement already satisfied: certifi>=2017.4.17 in /usr/local/lib/python3.10/dist-packages (from requests<3.0.0,>=2.25.0->cohere) (2023.5.7)\n",
            "Requirement already satisfied: idna<4,>=2.5 in /usr/local/lib/python3.10/dist-packages (from requests<3.0.0,>=2.25.0->cohere) (3.4)\n"
          ]
        }
      ],
      "source": [
        "pip install cohere"
      ]
    },
    {
      "cell_type": "code",
      "source": [
        "import cohere\n",
        "import pandas as pd\n",
        "import numpy as np\n",
        "import altair as alt\n",
        "import textwrap as tr\n",
        "co = cohere.Client('api_key')"
      ],
      "metadata": {
        "id": "BLsV7MbsvuA5"
      },
      "execution_count": 11,
      "outputs": []
    },
    {
      "cell_type": "code",
      "source": [
        "from cohere.responses.classify import Example\n",
        "#examples for each \"label\" we can classify as.\n",
        "examples = [Example(\"I'm so proud of you\", \"positive\"),\n",
        "            Example(\"What a great time to be alive\", \"positive\"),\n",
        "            Example(\"That's awesome work\", \"positive\"),\n",
        "            Example(\"The service was amazing\", \"positive\"),\n",
        "            Example(\"I love my family\", \"positive\"),\n",
        "            Example(\"They don't care about me\", \"negative\"),\n",
        "            Example(\"I hate this place\", \"negative\"),\n",
        "            Example(\"The most ridiculous thing I've ever heard\", \"negative\"),\n",
        "            Example(\"I am really frustrated\", \"negative\"),\n",
        "            Example(\"This is so unfair\", \"negative\"),\n",
        "            Example(\"This made me think\", \"neutral\"),\n",
        "            Example(\"The good old days\", \"neutral\"),\n",
        "            Example(\"What's the difference\", \"neutral\"),\n",
        "            Example(\"You can't ignore this\", \"neutral\"),\n",
        "            Example(\"That's how I see it\", \"neutral\")\n",
        "            ]"
      ],
      "metadata": {
        "id": "_BIBQJPfwUG9"
      },
      "execution_count": 6,
      "outputs": []
    },
    {
      "cell_type": "code",
      "source": [
        "#list of inputs we want to classify\n",
        "inputs=[\"Hello, world! What a beautiful day\",\n",
        "        \"It was a great time with great people\",\n",
        "        \"Great place to work\",\n",
        "        \"That was a wonderful evening\",\n",
        "        \"Maybe this is why\",\n",
        "        \"Let's start again\",\n",
        "        \"That's how I see it\",\n",
        "        \"These are all facts\",\n",
        "        \"This is the worst thing\",\n",
        "        \"I cannot stand this any longer\",\n",
        "        \"This is really annoying\",\n",
        "        \"I am just plain fed up\"\n",
        "        ]"
      ],
      "metadata": {
        "id": "K_4xA7xBxxav"
      },
      "execution_count": 7,
      "outputs": []
    },
    {
      "cell_type": "code",
      "source": [
        "#function to classify a list of input using the examples as training data\n",
        "def classify_texts(inputs,examples):\n",
        "  \"\"\"\n",
        "  Classify a list of input texts\n",
        "  Arguments:\n",
        "    inputs(list[str]): a list of input texts to be classified\n",
        "    examples(list[Example]): a list of example texts and class labels\n",
        "  Returns:\n",
        "    classifications(list): each result contains the text, labels, and conf values\n",
        "  \"\"\"\n",
        "  response = co.classify(model='embed-english-v2.0',inputs=inputs,examples=examples)\n",
        "  classifications = response.classifications\n",
        "  return classifications"
      ],
      "metadata": {
        "id": "efs062rGyILw"
      },
      "execution_count": 13,
      "outputs": []
    },
    {
      "cell_type": "code",
      "source": [
        "#classify the inputs\n",
        "predictions = classify_texts(inputs,examples)\n",
        "print(predictions)\n",
        "\n",
        "#display the classification outcomes\n",
        "classes =[\"positive\",\"negative\",\"neutral\"]\n",
        "for inp,pred in zip(inputs,predictions):\n",
        "  class_pred = pred.prediction\n",
        "  class_idx = classes.index(class_pred)\n",
        "  class_conf =pred.confidence\n",
        "  print(f\"Input: {inp}\")\n",
        "  print(f\"Prediction: {class_pred}\")\n",
        "  print(f\"Confidence: {class_conf:.2f}\")\n",
        "  print(\"-\"*10)"
      ],
      "metadata": {
        "colab": {
          "base_uri": "https://localhost:8080/"
        },
        "id": "xar_CU1xyoZt",
        "outputId": "758265a4-b24a-4fa9-8049-9a5acb3e95e3"
      },
      "execution_count": 17,
      "outputs": [
        {
          "output_type": "stream",
          "name": "stdout",
          "text": [
            "[Classification<prediction: \"positive\", confidence: 0.8913051, labels: {'negative': LabelPrediction(confidence=0.020680526), 'neutral': LabelPrediction(confidence=0.08801437), 'positive': LabelPrediction(confidence=0.8913051)}>, Classification<prediction: \"positive\", confidence: 0.99158084, labels: {'negative': LabelPrediction(confidence=0.0003528927), 'neutral': LabelPrediction(confidence=0.008066286), 'positive': LabelPrediction(confidence=0.99158084)}>, Classification<prediction: \"positive\", confidence: 0.89024514, labels: {'negative': LabelPrediction(confidence=0.10478737), 'neutral': LabelPrediction(confidence=0.004967516), 'positive': LabelPrediction(confidence=0.89024514)}>, Classification<prediction: \"positive\", confidence: 0.9724764, labels: {'negative': LabelPrediction(confidence=0.000884951), 'neutral': LabelPrediction(confidence=0.02663862), 'positive': LabelPrediction(confidence=0.9724764)}>, Classification<prediction: \"neutral\", confidence: 0.69813883, labels: {'negative': LabelPrediction(confidence=0.28945324), 'neutral': LabelPrediction(confidence=0.69813883), 'positive': LabelPrediction(confidence=0.012407912)}>, Classification<prediction: \"neutral\", confidence: 0.8222554, labels: {'negative': LabelPrediction(confidence=0.15050375), 'neutral': LabelPrediction(confidence=0.8222554), 'positive': LabelPrediction(confidence=0.027240876)}>, Classification<prediction: \"neutral\", confidence: 0.9990008, labels: {'negative': LabelPrediction(confidence=0.000528059), 'neutral': LabelPrediction(confidence=0.9990008), 'positive': LabelPrediction(confidence=0.00047114148)}>, Classification<prediction: \"neutral\", confidence: 0.7807047, labels: {'negative': LabelPrediction(confidence=0.12673534), 'neutral': LabelPrediction(confidence=0.7807047), 'positive': LabelPrediction(confidence=0.092559986)}>, Classification<prediction: \"negative\", confidence: 0.9345018, labels: {'negative': LabelPrediction(confidence=0.9345018), 'neutral': LabelPrediction(confidence=0.0559327), 'positive': LabelPrediction(confidence=0.009565477)}>, Classification<prediction: \"negative\", confidence: 0.9237751, labels: {'negative': LabelPrediction(confidence=0.9237751), 'neutral': LabelPrediction(confidence=0.06795897), 'positive': LabelPrediction(confidence=0.008265972)}>, Classification<prediction: \"negative\", confidence: 0.9855379, labels: {'negative': LabelPrediction(confidence=0.9855379), 'neutral': LabelPrediction(confidence=0.013490029), 'positive': LabelPrediction(confidence=0.0009721051)}>, Classification<prediction: \"negative\", confidence: 0.9991286, labels: {'negative': LabelPrediction(confidence=0.9991286), 'neutral': LabelPrediction(confidence=0.0005017641), 'positive': LabelPrediction(confidence=0.00036965017)}>]\n",
            "Input: Hello, world! What a beautiful day\n",
            "Prediction: positive\n",
            "Confidence: 0.89\n",
            "----------\n",
            "Input: It was a great time with great people\n",
            "Prediction: positive\n",
            "Confidence: 0.99\n",
            "----------\n",
            "Input: Great place to work\n",
            "Prediction: positive\n",
            "Confidence: 0.89\n",
            "----------\n",
            "Input: That was a wonderful evening\n",
            "Prediction: positive\n",
            "Confidence: 0.97\n",
            "----------\n",
            "Input: Maybe this is why\n",
            "Prediction: neutral\n",
            "Confidence: 0.70\n",
            "----------\n",
            "Input: Let's start again\n",
            "Prediction: neutral\n",
            "Confidence: 0.82\n",
            "----------\n",
            "Input: That's how I see it\n",
            "Prediction: neutral\n",
            "Confidence: 1.00\n",
            "----------\n",
            "Input: These are all facts\n",
            "Prediction: neutral\n",
            "Confidence: 0.78\n",
            "----------\n",
            "Input: This is the worst thing\n",
            "Prediction: negative\n",
            "Confidence: 0.93\n",
            "----------\n",
            "Input: I cannot stand this any longer\n",
            "Prediction: negative\n",
            "Confidence: 0.92\n",
            "----------\n",
            "Input: This is really annoying\n",
            "Prediction: negative\n",
            "Confidence: 0.99\n",
            "----------\n",
            "Input: I am just plain fed up\n",
            "Prediction: negative\n",
            "Confidence: 1.00\n",
            "----------\n"
          ]
        }
      ]
    }
  ]
}